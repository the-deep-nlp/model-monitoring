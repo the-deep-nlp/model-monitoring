{
 "cells": [
  {
   "cell_type": "code",
   "execution_count": 1,
   "metadata": {},
   "outputs": [],
   "source": [
    "import json\n",
    "import pandas as pd\n",
    "import numpy as np\n",
    "from ast import literal_eval\n",
    "from sklearn.preprocessing import MultiLabelBinarizer\n",
    "from sklearn.metrics import precision_recall_fscore_support\n",
    "from sklearn.metrics import multilabel_confusion_matrix"
   ]
  },
  {
   "cell_type": "code",
   "execution_count": 5,
   "metadata": {},
   "outputs": [],
   "source": [
    "def completely_matched_tags(lst):\n",
    "    return (lst[0] == lst[1]).sum()"
   ]
  },
  {
   "cell_type": "code",
   "execution_count": 6,
   "metadata": {},
   "outputs": [],
   "source": [
    "def missing_tags(lst):\n",
    "    return (lst[0] > lst[1]).sum()"
   ]
  },
  {
   "cell_type": "code",
   "execution_count": 7,
   "metadata": {},
   "outputs": [],
   "source": [
    "def wrong_tags(lst):\n",
    "    return (lst[0]<lst[1]).sum()"
   ]
  },
  {
   "cell_type": "code",
   "execution_count": 8,
   "metadata": {},
   "outputs": [],
   "source": [
    "df_sample = pd.read_csv(\"sampled_data_with_predictions_testset.csv\")"
   ]
  },
  {
   "cell_type": "code",
   "execution_count": 9,
   "metadata": {},
   "outputs": [
    {
     "data": {
      "text/plain": [
       "array([2028., 2098., 2170.])"
      ]
     },
     "execution_count": 9,
     "metadata": {},
     "output_type": "execute_result"
    }
   ],
   "source": [
    "df_sample[\"project_id\"].unique()"
   ]
  },
  {
   "cell_type": "code",
   "execution_count": 50,
   "metadata": {},
   "outputs": [
    {
     "data": {
      "text/plain": [
       "2028.0    50\n",
       "2098.0    50\n",
       "2170.0    50\n",
       "Name: project_id, dtype: int64"
      ]
     },
     "execution_count": 50,
     "metadata": {},
     "output_type": "execute_result"
    }
   ],
   "source": [
    "df_sample[\"project_id\"].value_counts()"
   ]
  },
  {
   "cell_type": "code",
   "execution_count": 10,
   "metadata": {},
   "outputs": [
    {
     "data": {
      "text/plain": [
       "Index(['entry_id', 'excerpt', 'analysis_framework_id', 'lead_id', 'project_id',\n",
       "       'verified', 'sectors', 'subpillars_2d', 'subpillars_1d', 'geo_location',\n",
       "       'specific_needs_groups', 'severity', 'info_date', 'age', 'gender',\n",
       "       'reliability', 'affected_groups_level_0', 'affected_groups_level_1',\n",
       "       'affected_groups_level_2', 'affected_groups_level_3', 'source_type',\n",
       "       'url', 'website', 'lang', 'translation_en', 'translation_fr',\n",
       "       'translation_es', 'sectors_pred', 'subpillars_2d_pred',\n",
       "       'subpillars_1d_pred', 'age_pred', 'gender_pred', 'affected_groups_pred',\n",
       "       'specific_needs_groups_pred', 'severity_pred'],\n",
       "      dtype='object')"
      ]
     },
     "execution_count": 10,
     "metadata": {},
     "output_type": "execute_result"
    }
   ],
   "source": [
    "df_sample.columns"
   ]
  },
  {
   "cell_type": "code",
   "execution_count": 11,
   "metadata": {},
   "outputs": [],
   "source": [
    "df_sample[\"sectors\"] = df_sample[\"sectors\"].apply(literal_eval)\n",
    "df_sample[\"sectors_pred\"] = df_sample[\"sectors_pred\"].apply(literal_eval)"
   ]
  },
  {
   "cell_type": "code",
   "execution_count": 12,
   "metadata": {},
   "outputs": [],
   "source": [
    "df_sample[\"subpillars_1d\"] = df_sample[\"subpillars_1d\"].apply(literal_eval)\n",
    "df_sample[\"subpillars_1d_pred\"] = df_sample[\"subpillars_1d_pred\"].apply(literal_eval)"
   ]
  },
  {
   "cell_type": "code",
   "execution_count": 13,
   "metadata": {},
   "outputs": [],
   "source": [
    "df_sample[\"subpillars_2d\"] = df_sample[\"subpillars_2d\"].apply(literal_eval)\n",
    "df_sample[\"subpillars_2d_pred\"] = df_sample[\"subpillars_2d_pred\"].apply(literal_eval)"
   ]
  },
  {
   "cell_type": "code",
   "execution_count": 14,
   "metadata": {},
   "outputs": [
    {
     "data": {
      "text/html": [
       "<div>\n",
       "<style scoped>\n",
       "    .dataframe tbody tr th:only-of-type {\n",
       "        vertical-align: middle;\n",
       "    }\n",
       "\n",
       "    .dataframe tbody tr th {\n",
       "        vertical-align: top;\n",
       "    }\n",
       "\n",
       "    .dataframe thead th {\n",
       "        text-align: right;\n",
       "    }\n",
       "</style>\n",
       "<table border=\"1\" class=\"dataframe\">\n",
       "  <thead>\n",
       "    <tr style=\"text-align: right;\">\n",
       "      <th></th>\n",
       "      <th>entry_id</th>\n",
       "      <th>excerpt</th>\n",
       "      <th>analysis_framework_id</th>\n",
       "      <th>lead_id</th>\n",
       "      <th>project_id</th>\n",
       "      <th>verified</th>\n",
       "      <th>sectors</th>\n",
       "      <th>subpillars_2d</th>\n",
       "      <th>subpillars_1d</th>\n",
       "      <th>geo_location</th>\n",
       "      <th>...</th>\n",
       "      <th>translation_fr</th>\n",
       "      <th>translation_es</th>\n",
       "      <th>sectors_pred</th>\n",
       "      <th>subpillars_2d_pred</th>\n",
       "      <th>subpillars_1d_pred</th>\n",
       "      <th>age_pred</th>\n",
       "      <th>gender_pred</th>\n",
       "      <th>affected_groups_pred</th>\n",
       "      <th>specific_needs_groups_pred</th>\n",
       "      <th>severity_pred</th>\n",
       "    </tr>\n",
       "  </thead>\n",
       "  <tbody>\n",
       "    <tr>\n",
       "      <th>0</th>\n",
       "      <td>174380</td>\n",
       "      <td>[6th september,Overall Syria] Riza said there ...</td>\n",
       "      <td>1306</td>\n",
       "      <td>40125.0</td>\n",
       "      <td>2028.0</td>\n",
       "      <td>False</td>\n",
       "      <td>[Health]</td>\n",
       "      <td>[Humanitarian Conditions-&gt;Physical And Mental ...</td>\n",
       "      <td>[Casualties-&gt;Dead]</td>\n",
       "      <td>['Syrian Arab Republic']</td>\n",
       "      <td>...</td>\n",
       "      <td>[6 septembre, la Syrie globale] Riza a déclaré...</td>\n",
       "      <td>[6 de septiembre, General Siria] Riza dijo que...</td>\n",
       "      <td>[Health]</td>\n",
       "      <td>[Humanitarian Conditions-&gt;Physical And Mental ...</td>\n",
       "      <td>[Casualties-&gt;Dead]</td>\n",
       "      <td>[]</td>\n",
       "      <td>[]</td>\n",
       "      <td>[]</td>\n",
       "      <td>[]</td>\n",
       "      <td>['Critical']</td>\n",
       "    </tr>\n",
       "    <tr>\n",
       "      <th>1</th>\n",
       "      <td>224488</td>\n",
       "      <td>[December 21, As-Suwayda] Fear of the Coronavi...</td>\n",
       "      <td>1306</td>\n",
       "      <td>46147.0</td>\n",
       "      <td>2028.0</td>\n",
       "      <td>False</td>\n",
       "      <td>[Protection, Education]</td>\n",
       "      <td>[Humanitarian Conditions-&gt;Physical And Mental ...</td>\n",
       "      <td>[]</td>\n",
       "      <td>['As-Sweida']</td>\n",
       "      <td>...</td>\n",
       "      <td>[21 décembre, As-Suwayda] La peur du Coronavir...</td>\n",
       "      <td>[21 de diciembre, AS-SUWAYDA] El miedo al Coro...</td>\n",
       "      <td>[Education, Health]</td>\n",
       "      <td>[Humanitarian Conditions-&gt;Living Standards, Im...</td>\n",
       "      <td>[]</td>\n",
       "      <td>['Children/Youth (5 to 17 years old)']</td>\n",
       "      <td>[]</td>\n",
       "      <td>[]</td>\n",
       "      <td>[]</td>\n",
       "      <td>['Major']</td>\n",
       "    </tr>\n",
       "  </tbody>\n",
       "</table>\n",
       "<p>2 rows × 35 columns</p>\n",
       "</div>"
      ],
      "text/plain": [
       "   entry_id                                            excerpt  \\\n",
       "0    174380  [6th september,Overall Syria] Riza said there ...   \n",
       "1    224488  [December 21, As-Suwayda] Fear of the Coronavi...   \n",
       "\n",
       "   analysis_framework_id  lead_id  project_id  verified  \\\n",
       "0                   1306  40125.0      2028.0     False   \n",
       "1                   1306  46147.0      2028.0     False   \n",
       "\n",
       "                   sectors                                      subpillars_2d  \\\n",
       "0                 [Health]  [Humanitarian Conditions->Physical And Mental ...   \n",
       "1  [Protection, Education]  [Humanitarian Conditions->Physical And Mental ...   \n",
       "\n",
       "        subpillars_1d              geo_location  ...  \\\n",
       "0  [Casualties->Dead]  ['Syrian Arab Republic']  ...   \n",
       "1                  []             ['As-Sweida']  ...   \n",
       "\n",
       "                                      translation_fr  \\\n",
       "0  [6 septembre, la Syrie globale] Riza a déclaré...   \n",
       "1  [21 décembre, As-Suwayda] La peur du Coronavir...   \n",
       "\n",
       "                                      translation_es         sectors_pred  \\\n",
       "0  [6 de septiembre, General Siria] Riza dijo que...             [Health]   \n",
       "1  [21 de diciembre, AS-SUWAYDA] El miedo al Coro...  [Education, Health]   \n",
       "\n",
       "                                  subpillars_2d_pred  subpillars_1d_pred  \\\n",
       "0  [Humanitarian Conditions->Physical And Mental ...  [Casualties->Dead]   \n",
       "1  [Humanitarian Conditions->Living Standards, Im...                  []   \n",
       "\n",
       "                                 age_pred gender_pred affected_groups_pred  \\\n",
       "0                                      []          []                   []   \n",
       "1  ['Children/Youth (5 to 17 years old)']          []                   []   \n",
       "\n",
       "  specific_needs_groups_pred severity_pred  \n",
       "0                         []  ['Critical']  \n",
       "1                         []     ['Major']  \n",
       "\n",
       "[2 rows x 35 columns]"
      ]
     },
     "execution_count": 14,
     "metadata": {},
     "output_type": "execute_result"
    }
   ],
   "source": [
    "df_sample.head(2)"
   ]
  },
  {
   "cell_type": "code",
   "execution_count": 15,
   "metadata": {},
   "outputs": [],
   "source": [
    "sectors = ['Agriculture', 'Cross', 'Education', 'Health', 'Livelihoods', 'Logistics', 'Protection', 'Shelter', 'WASH', 'Food Security', 'Nutrition']"
   ]
  },
  {
   "cell_type": "code",
   "execution_count": 16,
   "metadata": {},
   "outputs": [],
   "source": [
    "subpillars_1d = [\"Context->Environment\", \"Context->Socio Cultural\", \"Context->Economy\",\n",
    "    \"Context->Demography\", \"Context->Legal & Policy\", \"Context->Security & Stability\",\n",
    "    \"Context->Politics\", \"Shock/Event->Type And Characteristics\", \"Shock/Event->Underlying/Aggravating Factors\",\n",
    "    \"Shock/Event->Hazard & Threats\", \"Displacement->Type/Numbers/Movements\", \"Displacement->Push Factors\", \"Displacement->Pull Factors\",\n",
    "    \"Displacement->Intentions\", \"Displacement->Local Integration\", \"Casualties->Injured\", \"Casualties->Missing\", \"Casualties->Dead\",\n",
    "    \"Humanitarian Access->Relief To Population\", \"Humanitarian Access->Population To Relief\", \"Humanitarian Access->Physical Constraints\",\n",
    "    \"Humanitarian Access->Number Of People Facing Humanitarian Access Constraints/Humanitarian Access Gaps\",\n",
    "    \"Information And Communication->Communication Means And Preferences\", \"Information And Communication->Information Challenges And Barriers\",\n",
    "    \"Information And Communication->Knowledge And Info Gaps (Pop)\", \"Information And Communication->Knowledge And Info Gaps (Hum)\",\n",
    "    \"Covid-19->Cases\", \"Covid-19->Contact Tracing\", \"Covid-19->Deaths\", \"Covid-19->Hospitalization & Care\", \"Covid-19->Restriction Measures\",\n",
    "    \"Covid-19->Testing\", \"Covid-19->Vaccination\"]\n"
   ]
  },
  {
   "cell_type": "code",
   "execution_count": 17,
   "metadata": {},
   "outputs": [],
   "source": [
    "subpillars_2d = [\"At Risk->Number Of People At Risk\", \"At Risk->Risk And Vulnerabilities\", \"Capacities & Response->International Response\", \"Capacities & Response->Local Response\",\n",
    "        \"Capacities & Response->National Response\", \"Capacities & Response->Number Of People Reached/Response Gaps\",\n",
    "        \"Humanitarian Conditions->Coping Mechanisms\", \"Humanitarian Conditions->Living Standards\",\n",
    "        \"Humanitarian Conditions->Number Of People In Need\", \"Humanitarian Conditions->Physical And Mental Well Being\",\n",
    "        \"Impact->Driver/Aggravating Factors\", \"Impact->Impact On People\", \"Impact->Impact On Systems, Services And Networks\",\n",
    "        \"Impact->Number Of People Affected\", \"Priority Interventions->Expressed By Humanitarian Staff\",\n",
    "        \"Priority Interventions->Expressed By Population\", \"Priority Needs->Expressed By Humanitarian Staff\", \"Priority Needs->Expressed By Population\"\n",
    "]"
   ]
  },
  {
   "cell_type": "code",
   "execution_count": 18,
   "metadata": {},
   "outputs": [
    {
     "data": {
      "text/plain": [
       "array(['Agriculture', 'Cross', 'Education', 'Food Security', 'Health',\n",
       "       'Livelihoods', 'Logistics', 'Nutrition', 'Protection', 'Shelter',\n",
       "       'WASH'], dtype=object)"
      ]
     },
     "execution_count": 18,
     "metadata": {},
     "output_type": "execute_result"
    }
   ],
   "source": [
    "mlb_sectors = MultiLabelBinarizer()\n",
    "mlb_sectors.fit_transform([sectors])\n",
    "mlb_sectors.classes_"
   ]
  },
  {
   "cell_type": "code",
   "execution_count": 19,
   "metadata": {},
   "outputs": [
    {
     "data": {
      "text/plain": [
       "array(['Casualties->Dead', 'Casualties->Injured', 'Casualties->Missing',\n",
       "       'Context->Demography', 'Context->Economy', 'Context->Environment',\n",
       "       'Context->Legal & Policy', 'Context->Politics',\n",
       "       'Context->Security & Stability', 'Context->Socio Cultural',\n",
       "       'Covid-19->Cases', 'Covid-19->Contact Tracing', 'Covid-19->Deaths',\n",
       "       'Covid-19->Hospitalization & Care',\n",
       "       'Covid-19->Restriction Measures', 'Covid-19->Testing',\n",
       "       'Covid-19->Vaccination', 'Displacement->Intentions',\n",
       "       'Displacement->Local Integration', 'Displacement->Pull Factors',\n",
       "       'Displacement->Push Factors',\n",
       "       'Displacement->Type/Numbers/Movements',\n",
       "       'Humanitarian Access->Number Of People Facing Humanitarian Access Constraints/Humanitarian Access Gaps',\n",
       "       'Humanitarian Access->Physical Constraints',\n",
       "       'Humanitarian Access->Population To Relief',\n",
       "       'Humanitarian Access->Relief To Population',\n",
       "       'Information And Communication->Communication Means And Preferences',\n",
       "       'Information And Communication->Information Challenges And Barriers',\n",
       "       'Information And Communication->Knowledge And Info Gaps (Hum)',\n",
       "       'Information And Communication->Knowledge And Info Gaps (Pop)',\n",
       "       'Shock/Event->Hazard & Threats',\n",
       "       'Shock/Event->Type And Characteristics',\n",
       "       'Shock/Event->Underlying/Aggravating Factors'], dtype=object)"
      ]
     },
     "execution_count": 19,
     "metadata": {},
     "output_type": "execute_result"
    }
   ],
   "source": [
    "mlb_subpillars1d = MultiLabelBinarizer()\n",
    "mlb_subpillars1d.fit_transform([subpillars_1d])\n",
    "mlb_subpillars1d.classes_"
   ]
  },
  {
   "cell_type": "code",
   "execution_count": 20,
   "metadata": {},
   "outputs": [
    {
     "data": {
      "text/plain": [
       "array(['At Risk->Number Of People At Risk',\n",
       "       'At Risk->Risk And Vulnerabilities',\n",
       "       'Capacities & Response->International Response',\n",
       "       'Capacities & Response->Local Response',\n",
       "       'Capacities & Response->National Response',\n",
       "       'Capacities & Response->Number Of People Reached/Response Gaps',\n",
       "       'Humanitarian Conditions->Coping Mechanisms',\n",
       "       'Humanitarian Conditions->Living Standards',\n",
       "       'Humanitarian Conditions->Number Of People In Need',\n",
       "       'Humanitarian Conditions->Physical And Mental Well Being',\n",
       "       'Impact->Driver/Aggravating Factors', 'Impact->Impact On People',\n",
       "       'Impact->Impact On Systems, Services And Networks',\n",
       "       'Impact->Number Of People Affected',\n",
       "       'Priority Interventions->Expressed By Humanitarian Staff',\n",
       "       'Priority Interventions->Expressed By Population',\n",
       "       'Priority Needs->Expressed By Humanitarian Staff',\n",
       "       'Priority Needs->Expressed By Population'], dtype=object)"
      ]
     },
     "execution_count": 20,
     "metadata": {},
     "output_type": "execute_result"
    }
   ],
   "source": [
    "mlb_subpillars2d = MultiLabelBinarizer()\n",
    "mlb_subpillars2d.fit_transform([subpillars_2d])\n",
    "mlb_subpillars2d.classes_"
   ]
  },
  {
   "cell_type": "code",
   "execution_count": 21,
   "metadata": {},
   "outputs": [
    {
     "data": {
      "text/plain": [
       "(150, 150)"
      ]
     },
     "execution_count": 21,
     "metadata": {},
     "output_type": "execute_result"
    }
   ],
   "source": [
    "df_sample[\"sectors_transformed\"] = list(mlb_sectors.transform(list(df_sample[\"sectors\"])))\n",
    "df_sample[\"sectors_pred_transformed\"] = list(mlb_sectors.transform(list(df_sample[\"sectors_pred\"])))\n",
    "len(df_sample[\"sectors_transformed\"]), len(df_sample[\"sectors_pred_transformed\"])"
   ]
  },
  {
   "cell_type": "code",
   "execution_count": 22,
   "metadata": {},
   "outputs": [],
   "source": [
    "df_sample[\"subpillars_1d_transformed\"] = list(mlb_subpillars1d.transform(list(df_sample[\"subpillars_1d\"])))\n",
    "df_sample[\"subpillars_1d_pred_transformed\"] = list(mlb_subpillars1d.transform(list(df_sample[\"subpillars_1d_pred\"])))"
   ]
  },
  {
   "cell_type": "code",
   "execution_count": 23,
   "metadata": {},
   "outputs": [],
   "source": [
    "df_sample[\"subpillars_2d_transformed\"] = list(mlb_subpillars2d.transform(list(df_sample[\"subpillars_2d\"])))\n",
    "df_sample[\"subpillars_2d_pred_transformed\"] = list(mlb_subpillars2d.transform(list(df_sample[\"subpillars_2d_pred\"])))"
   ]
  },
  {
   "cell_type": "code",
   "execution_count": 49,
   "metadata": {},
   "outputs": [
    {
     "name": "stdout",
     "output_type": "stream",
     "text": [
      "Project ID 2028.0: -> Sector level: Precision: 0.8269162210338682, Recall: 0.8424242424242423, F1Score: 0.812258953168044, Support: None\n",
      "Project ID 2098.0: -> Sector level: Precision: 0.5215728715728716, Recall: 0.6070707070707071, F1Score: 0.5317001180637545, Support: None\n",
      "Project ID 2170.0: -> Sector level: Precision: 0.4893048128342246, Recall: 0.6480716253443526, F1Score: 0.5437229437229437, Support: None\n"
     ]
    }
   ],
   "source": [
    "for project_group_gt, project_group_pred in zip(\n",
    "    list(df_sample.groupby(\"project_id\")[\"sectors_transformed\"]),\n",
    "    list(df_sample.groupby(\"project_id\")[\"sectors_pred_transformed\"])):\n",
    "    #print(list(project_group_gt[1]))\n",
    "    #print(project_group_pred)\n",
    "    p, r, f1s, s = precision_recall_fscore_support(list(project_group_gt[1]), list(project_group_pred[1]), average=\"macro\", zero_division=0)\n",
    "    print(f\"Project ID {project_group_gt[0]}: -> Sector level: Precision: {p}, Recall: {r}, F1Score: {f1s}, Support: {s}\")\n",
    "    \n"
   ]
  },
  {
   "cell_type": "code",
   "execution_count": 25,
   "metadata": {},
   "outputs": [],
   "source": [
    "# Results per tag in Sector group\n",
    "results_sectors = precision_recall_fscore_support(list(df_sample[\"sectors_transformed\"]), list(df_sample[\"sectors_pred_transformed\"]), zero_division=0)"
   ]
  },
  {
   "cell_type": "code",
   "execution_count": 26,
   "metadata": {},
   "outputs": [
    {
     "data": {
      "text/plain": [
       "(array([0.5       , 0.45833333, 0.78947368, 0.76923077, 0.73076923,\n",
       "        0.44444444, 0.75      , 0.2       , 0.5625    , 0.85714286,\n",
       "        0.875     ]),\n",
       " array([0.33333333, 0.57894737, 0.9375    , 0.76923077, 0.82608696,\n",
       "        0.88888889, 1.        , 0.5       , 0.69230769, 0.75      ,\n",
       "        0.875     ]),\n",
       " array([0.4       , 0.51162791, 0.85714286, 0.76923077, 0.7755102 ,\n",
       "        0.59259259, 0.85714286, 0.28571429, 0.62068966, 0.8       ,\n",
       "        0.875     ]),\n",
       " array([ 3, 19, 16, 13, 46,  9,  6,  2, 13,  8, 16]))"
      ]
     },
     "execution_count": 26,
     "metadata": {},
     "output_type": "execute_result"
    }
   ],
   "source": [
    "# Note that these are precisions for each sector tag e.g. Agriculture, Nutrition, Cross etc.\n",
    "# First list is the precision for each sector tag\n",
    "# Second list is the recall for each sector tag\n",
    "# Third list is the f1score for each sector tag\n",
    "results_sectors"
   ]
  },
  {
   "cell_type": "code",
   "execution_count": 43,
   "metadata": {},
   "outputs": [
    {
     "name": "stdout",
     "output_type": "stream",
     "text": [
      "Sector - Precision - calculated for all projects\n",
      "[('Agriculture', 0.5), ('Cross', 0.4583333333333333), ('Education', 0.7894736842105263), ('Health', 0.7692307692307693), ('Livelihoods', 0.7307692307692307), ('Logistics', 0.4444444444444444), ('Protection', 0.75), ('Shelter', 0.2), ('WASH', 0.5625), ('Food Security', 0.8571428571428571), ('Nutrition', 0.875)]\n"
     ]
    }
   ],
   "source": [
    "print(\"Sector - Precision - calculated for all projects\")\n",
    "print(list((tag, value) for tag, value in zip(sectors, results_sectors[0])))"
   ]
  },
  {
   "cell_type": "code",
   "execution_count": 44,
   "metadata": {},
   "outputs": [
    {
     "name": "stdout",
     "output_type": "stream",
     "text": [
      "Sector - Recall - calculated for all projects\n",
      "[('Agriculture', 0.3333333333333333), ('Cross', 0.5789473684210527), ('Education', 0.9375), ('Health', 0.7692307692307693), ('Livelihoods', 0.8260869565217391), ('Logistics', 0.8888888888888888), ('Protection', 1.0), ('Shelter', 0.5), ('WASH', 0.6923076923076923), ('Food Security', 0.75), ('Nutrition', 0.875)]\n"
     ]
    }
   ],
   "source": [
    "print(\"Sector - Recall - calculated for all projects\")\n",
    "print(list((tag, value) for tag, value in zip(sectors, results_sectors[1])))"
   ]
  },
  {
   "cell_type": "code",
   "execution_count": 45,
   "metadata": {},
   "outputs": [
    {
     "name": "stdout",
     "output_type": "stream",
     "text": [
      "Sector - F1Score - calculated for all projects\n",
      "[('Agriculture', 0.4), ('Cross', 0.5116279069767442), ('Education', 0.8571428571428572), ('Health', 0.7692307692307693), ('Livelihoods', 0.7755102040816326), ('Logistics', 0.5925925925925926), ('Protection', 0.8571428571428571), ('Shelter', 0.28571428571428575), ('WASH', 0.6206896551724138), ('Food Security', 0.7999999999999999), ('Nutrition', 0.875)]\n"
     ]
    }
   ],
   "source": [
    "print(\"Sector - F1Score - calculated for all projects\")\n",
    "print(list((tag, value) for tag, value in zip(sectors, results_sectors[2])))"
   ]
  },
  {
   "cell_type": "code",
   "execution_count": 27,
   "metadata": {},
   "outputs": [
    {
     "data": {
      "text/plain": [
       "(0.6306267562846509, 0.7410268189730431, 0.667695557095832, None)"
      ]
     },
     "execution_count": 27,
     "metadata": {},
     "output_type": "execute_result"
    }
   ],
   "source": [
    "# Average over all the projects\n",
    "avg_precision_sector, avg_recall_sector, avg_f1score_sector, avg_support_sector = precision_recall_fscore_support(\n",
    "    list(df_sample[\"sectors_transformed\"]), list(df_sample[\"sectors_pred_transformed\"]),\n",
    "    average=\"macro\", zero_division=0\n",
    ")\n",
    "avg_precision_sector, avg_recall_sector, avg_f1score_sector, avg_support_sector"
   ]
  },
  {
   "cell_type": "code",
   "execution_count": 28,
   "metadata": {},
   "outputs": [
    {
     "data": {
      "text/plain": [
       "(0.2720615243342516, 0.260097730552276, 0.26212266969842724, None)"
      ]
     },
     "execution_count": 28,
     "metadata": {},
     "output_type": "execute_result"
    }
   ],
   "source": [
    "# Average over all the projects\n",
    "avg_precision_subpillars1d, avg_recall_subpillars1d, avg_f1score_subpillars1d, avg_support_subpillars1d = precision_recall_fscore_support(\n",
    "    list(df_sample[\"subpillars_1d_transformed\"]), list(df_sample[\"subpillars_1d_pred_transformed\"]),\n",
    "    average=\"macro\", zero_division=0\n",
    ")\n",
    "avg_precision_subpillars1d, avg_recall_subpillars1d, avg_f1score_subpillars1d, avg_support_subpillars1d"
   ]
  },
  {
   "cell_type": "code",
   "execution_count": 29,
   "metadata": {},
   "outputs": [
    {
     "data": {
      "text/plain": [
       "(0.4197691197691198, 0.550723110547672, 0.4617275308633557, None)"
      ]
     },
     "execution_count": 29,
     "metadata": {},
     "output_type": "execute_result"
    }
   ],
   "source": [
    "# Average over all the projects\n",
    "avg_precision_subpillars2d, avg_recall_subpillars2d, avg_f1score_subpillars2d, avg_support_subpillars2d = precision_recall_fscore_support(\n",
    "    list(df_sample[\"subpillars_2d_transformed\"]), list(df_sample[\"subpillars_2d_pred_transformed\"]),\n",
    "    average=\"macro\", zero_division=0\n",
    ")\n",
    "avg_precision_subpillars2d, avg_recall_subpillars2d, avg_f1score_subpillars2d, avg_support_subpillars2d"
   ]
  },
  {
   "cell_type": "code",
   "execution_count": 30,
   "metadata": {},
   "outputs": [],
   "source": [
    "df_sample[\"sector_completely_matched\"] = list(map(completely_matched_tags, list(zip(np.array(df_sample[\"sectors_transformed\"]), np.array(df_sample[\"sectors_pred_transformed\"])))))\n",
    "df_sample[\"sector_completely_matched\"] /= len(mlb_sectors.classes_)\n",
    "df_sample[\"sector_missing\"] = list(map(missing_tags, list(zip(np.array(df_sample[\"sectors_transformed\"]), np.array(df_sample[\"sectors_pred_transformed\"])))))\n",
    "df_sample[\"sector_missing\"] /= len(mlb_sectors.classes_)\n",
    "df_sample[\"sector_wrong\"] = list(map(wrong_tags, list(zip(np.array(df_sample[\"sectors_transformed\"]), np.array(df_sample[\"sectors_pred_transformed\"])))))\n",
    "df_sample[\"sector_wrong\"] /= len(mlb_sectors.classes_)"
   ]
  },
  {
   "cell_type": "code",
   "execution_count": 32,
   "metadata": {},
   "outputs": [],
   "source": [
    "df_sample[\"subpillars_1d_completely_matched\"] = list(map(completely_matched_tags, list(zip(np.array(df_sample[\"subpillars_1d_transformed\"]), np.array(df_sample[\"subpillars_1d_pred_transformed\"])))))\n",
    "df_sample[\"subpillars_1d_completely_matched\"] /= len(mlb_subpillars1d.classes_)\n",
    "df_sample[\"subpillars_1d_missing\"] = list(map(missing_tags, list(zip(np.array(df_sample[\"subpillars_1d_transformed\"]), np.array(df_sample[\"subpillars_1d_pred_transformed\"])))))\n",
    "df_sample[\"subpillars_1d_missing\"] /= len(mlb_subpillars1d.classes_)\n",
    "df_sample[\"subpillars_1d_wrong\"] = list(map(wrong_tags, list(zip(np.array(df_sample[\"subpillars_1d_transformed\"]), np.array(df_sample[\"subpillars_1d_pred_transformed\"])))))\n",
    "df_sample[\"subpillars_1d_wrong\"] /= len(mlb_subpillars1d.classes_)"
   ]
  },
  {
   "cell_type": "code",
   "execution_count": 33,
   "metadata": {},
   "outputs": [],
   "source": [
    "df_sample[\"subpillars_2d_completely_matched\"] = list(map(completely_matched_tags, list(zip(np.array(df_sample[\"subpillars_2d_transformed\"]), np.array(df_sample[\"subpillars_2d_pred_transformed\"])))))\n",
    "df_sample[\"subpillars_2d_completely_matched\"] /= len(mlb_subpillars2d.classes_)\n",
    "df_sample[\"subpillars_2d_missing\"] = list(map(missing_tags, list(zip(np.array(df_sample[\"subpillars_2d_transformed\"]), np.array(df_sample[\"subpillars_2d_pred_transformed\"])))))\n",
    "df_sample[\"subpillars_2d_missing\"] /= len(mlb_subpillars2d.classes_)\n",
    "df_sample[\"subpillars_2d_wrong\"] = list(map(wrong_tags, list(zip(np.array(df_sample[\"subpillars_2d_transformed\"]), np.array(df_sample[\"subpillars_2d_pred_transformed\"])))))\n",
    "df_sample[\"subpillars_2d_wrong\"] /= len(mlb_subpillars2d.classes_)"
   ]
  },
  {
   "cell_type": "code",
   "execution_count": 34,
   "metadata": {},
   "outputs": [
    {
     "data": {
      "text/html": [
       "<div>\n",
       "<style scoped>\n",
       "    .dataframe tbody tr th:only-of-type {\n",
       "        vertical-align: middle;\n",
       "    }\n",
       "\n",
       "    .dataframe tbody tr th {\n",
       "        vertical-align: top;\n",
       "    }\n",
       "\n",
       "    .dataframe thead th {\n",
       "        text-align: right;\n",
       "    }\n",
       "</style>\n",
       "<table border=\"1\" class=\"dataframe\">\n",
       "  <thead>\n",
       "    <tr style=\"text-align: right;\">\n",
       "      <th></th>\n",
       "      <th>entry_id</th>\n",
       "      <th>excerpt</th>\n",
       "      <th>analysis_framework_id</th>\n",
       "      <th>lead_id</th>\n",
       "      <th>project_id</th>\n",
       "      <th>verified</th>\n",
       "      <th>sectors</th>\n",
       "      <th>subpillars_2d</th>\n",
       "      <th>subpillars_1d</th>\n",
       "      <th>geo_location</th>\n",
       "      <th>...</th>\n",
       "      <th>subpillars_2d_pred_transformed</th>\n",
       "      <th>sector_completely_matched</th>\n",
       "      <th>sector_missing</th>\n",
       "      <th>sector_wrong</th>\n",
       "      <th>subpillars_1d_completely_matched</th>\n",
       "      <th>subpillars_1d_missing</th>\n",
       "      <th>subpillars_1d_wrong</th>\n",
       "      <th>subpillars_2d_completely_matched</th>\n",
       "      <th>subpillars_2d_missing</th>\n",
       "      <th>subpillars_2d_wrong</th>\n",
       "    </tr>\n",
       "  </thead>\n",
       "  <tbody>\n",
       "    <tr>\n",
       "      <th>0</th>\n",
       "      <td>174380</td>\n",
       "      <td>[6th september,Overall Syria] Riza said there ...</td>\n",
       "      <td>1306</td>\n",
       "      <td>40125.0</td>\n",
       "      <td>2028.0</td>\n",
       "      <td>False</td>\n",
       "      <td>[Health]</td>\n",
       "      <td>[Humanitarian Conditions-&gt;Physical And Mental ...</td>\n",
       "      <td>[Casualties-&gt;Dead]</td>\n",
       "      <td>['Syrian Arab Republic']</td>\n",
       "      <td>...</td>\n",
       "      <td>[0, 0, 0, 0, 0, 0, 0, 0, 0, 1, 0, 0, 0, 0, 0, ...</td>\n",
       "      <td>1.000000</td>\n",
       "      <td>0.000000</td>\n",
       "      <td>0.000000</td>\n",
       "      <td>1.0</td>\n",
       "      <td>0.0</td>\n",
       "      <td>0.0</td>\n",
       "      <td>1.000000</td>\n",
       "      <td>0.000000</td>\n",
       "      <td>0.000000</td>\n",
       "    </tr>\n",
       "    <tr>\n",
       "      <th>1</th>\n",
       "      <td>224488</td>\n",
       "      <td>[December 21, As-Suwayda] Fear of the Coronavi...</td>\n",
       "      <td>1306</td>\n",
       "      <td>46147.0</td>\n",
       "      <td>2028.0</td>\n",
       "      <td>False</td>\n",
       "      <td>[Protection, Education]</td>\n",
       "      <td>[Humanitarian Conditions-&gt;Physical And Mental ...</td>\n",
       "      <td>[]</td>\n",
       "      <td>['As-Sweida']</td>\n",
       "      <td>...</td>\n",
       "      <td>[0, 0, 0, 0, 0, 0, 0, 1, 0, 0, 1, 1, 0, 0, 0, ...</td>\n",
       "      <td>0.818182</td>\n",
       "      <td>0.090909</td>\n",
       "      <td>0.090909</td>\n",
       "      <td>1.0</td>\n",
       "      <td>0.0</td>\n",
       "      <td>0.0</td>\n",
       "      <td>0.833333</td>\n",
       "      <td>0.055556</td>\n",
       "      <td>0.111111</td>\n",
       "    </tr>\n",
       "    <tr>\n",
       "      <th>2</th>\n",
       "      <td>245365</td>\n",
       "      <td>[November 2020, North-west Syria] By November,...</td>\n",
       "      <td>1306</td>\n",
       "      <td>47945.0</td>\n",
       "      <td>2028.0</td>\n",
       "      <td>False</td>\n",
       "      <td>[]</td>\n",
       "      <td>[]</td>\n",
       "      <td>[Covid-19-&gt;Cases]</td>\n",
       "      <td>['Northwest']</td>\n",
       "      <td>...</td>\n",
       "      <td>[0, 0, 0, 0, 0, 0, 0, 0, 0, 1, 0, 0, 0, 0, 0, ...</td>\n",
       "      <td>0.909091</td>\n",
       "      <td>0.000000</td>\n",
       "      <td>0.090909</td>\n",
       "      <td>1.0</td>\n",
       "      <td>0.0</td>\n",
       "      <td>0.0</td>\n",
       "      <td>0.944444</td>\n",
       "      <td>0.000000</td>\n",
       "      <td>0.055556</td>\n",
       "    </tr>\n",
       "    <tr>\n",
       "      <th>3</th>\n",
       "      <td>326857</td>\n",
       "      <td>(Idlib, 03/2021) The Director General of the G...</td>\n",
       "      <td>1306</td>\n",
       "      <td>51351.0</td>\n",
       "      <td>2028.0</td>\n",
       "      <td>False</td>\n",
       "      <td>[WASH]</td>\n",
       "      <td>[Impact-&gt;Impact On Systems, Services And Netwo...</td>\n",
       "      <td>[]</td>\n",
       "      <td>[]</td>\n",
       "      <td>...</td>\n",
       "      <td>[0, 0, 0, 0, 0, 0, 0, 1, 0, 0, 0, 0, 1, 0, 0, ...</td>\n",
       "      <td>1.000000</td>\n",
       "      <td>0.000000</td>\n",
       "      <td>0.000000</td>\n",
       "      <td>1.0</td>\n",
       "      <td>0.0</td>\n",
       "      <td>0.0</td>\n",
       "      <td>0.944444</td>\n",
       "      <td>0.000000</td>\n",
       "      <td>0.055556</td>\n",
       "    </tr>\n",
       "    <tr>\n",
       "      <th>4</th>\n",
       "      <td>164076</td>\n",
       "      <td>Trend analysis and overview: The number of con...</td>\n",
       "      <td>1306</td>\n",
       "      <td>38063.0</td>\n",
       "      <td>2028.0</td>\n",
       "      <td>False</td>\n",
       "      <td>[Health]</td>\n",
       "      <td>[Humanitarian Conditions-&gt;Physical And Mental ...</td>\n",
       "      <td>[Casualties-&gt;Dead]</td>\n",
       "      <td>['Syrian Arab Republic']</td>\n",
       "      <td>...</td>\n",
       "      <td>[0, 0, 0, 0, 0, 0, 0, 0, 0, 1, 0, 0, 0, 0, 0, ...</td>\n",
       "      <td>1.000000</td>\n",
       "      <td>0.000000</td>\n",
       "      <td>0.000000</td>\n",
       "      <td>1.0</td>\n",
       "      <td>0.0</td>\n",
       "      <td>0.0</td>\n",
       "      <td>1.000000</td>\n",
       "      <td>0.000000</td>\n",
       "      <td>0.000000</td>\n",
       "    </tr>\n",
       "  </tbody>\n",
       "</table>\n",
       "<p>5 rows × 50 columns</p>\n",
       "</div>"
      ],
      "text/plain": [
       "   entry_id                                            excerpt  \\\n",
       "0    174380  [6th september,Overall Syria] Riza said there ...   \n",
       "1    224488  [December 21, As-Suwayda] Fear of the Coronavi...   \n",
       "2    245365  [November 2020, North-west Syria] By November,...   \n",
       "3    326857  (Idlib, 03/2021) The Director General of the G...   \n",
       "4    164076  Trend analysis and overview: The number of con...   \n",
       "\n",
       "   analysis_framework_id  lead_id  project_id  verified  \\\n",
       "0                   1306  40125.0      2028.0     False   \n",
       "1                   1306  46147.0      2028.0     False   \n",
       "2                   1306  47945.0      2028.0     False   \n",
       "3                   1306  51351.0      2028.0     False   \n",
       "4                   1306  38063.0      2028.0     False   \n",
       "\n",
       "                   sectors                                      subpillars_2d  \\\n",
       "0                 [Health]  [Humanitarian Conditions->Physical And Mental ...   \n",
       "1  [Protection, Education]  [Humanitarian Conditions->Physical And Mental ...   \n",
       "2                       []                                                 []   \n",
       "3                   [WASH]  [Impact->Impact On Systems, Services And Netwo...   \n",
       "4                 [Health]  [Humanitarian Conditions->Physical And Mental ...   \n",
       "\n",
       "        subpillars_1d              geo_location  ...  \\\n",
       "0  [Casualties->Dead]  ['Syrian Arab Republic']  ...   \n",
       "1                  []             ['As-Sweida']  ...   \n",
       "2   [Covid-19->Cases]             ['Northwest']  ...   \n",
       "3                  []                        []  ...   \n",
       "4  [Casualties->Dead]  ['Syrian Arab Republic']  ...   \n",
       "\n",
       "                      subpillars_2d_pred_transformed  \\\n",
       "0  [0, 0, 0, 0, 0, 0, 0, 0, 0, 1, 0, 0, 0, 0, 0, ...   \n",
       "1  [0, 0, 0, 0, 0, 0, 0, 1, 0, 0, 1, 1, 0, 0, 0, ...   \n",
       "2  [0, 0, 0, 0, 0, 0, 0, 0, 0, 1, 0, 0, 0, 0, 0, ...   \n",
       "3  [0, 0, 0, 0, 0, 0, 0, 1, 0, 0, 0, 0, 1, 0, 0, ...   \n",
       "4  [0, 0, 0, 0, 0, 0, 0, 0, 0, 1, 0, 0, 0, 0, 0, ...   \n",
       "\n",
       "  sector_completely_matched sector_missing sector_wrong  \\\n",
       "0                  1.000000       0.000000     0.000000   \n",
       "1                  0.818182       0.090909     0.090909   \n",
       "2                  0.909091       0.000000     0.090909   \n",
       "3                  1.000000       0.000000     0.000000   \n",
       "4                  1.000000       0.000000     0.000000   \n",
       "\n",
       "  subpillars_1d_completely_matched subpillars_1d_missing subpillars_1d_wrong  \\\n",
       "0                              1.0                   0.0                 0.0   \n",
       "1                              1.0                   0.0                 0.0   \n",
       "2                              1.0                   0.0                 0.0   \n",
       "3                              1.0                   0.0                 0.0   \n",
       "4                              1.0                   0.0                 0.0   \n",
       "\n",
       "  subpillars_2d_completely_matched subpillars_2d_missing subpillars_2d_wrong  \n",
       "0                         1.000000              0.000000            0.000000  \n",
       "1                         0.833333              0.055556            0.111111  \n",
       "2                         0.944444              0.000000            0.055556  \n",
       "3                         0.944444              0.000000            0.055556  \n",
       "4                         1.000000              0.000000            0.000000  \n",
       "\n",
       "[5 rows x 50 columns]"
      ]
     },
     "execution_count": 34,
     "metadata": {},
     "output_type": "execute_result"
    }
   ],
   "source": [
    "df_sample.head(5)"
   ]
  },
  {
   "cell_type": "code",
   "execution_count": 35,
   "metadata": {},
   "outputs": [
    {
     "data": {
      "text/plain": [
       "(project_id\n",
       " 2028.0    0.958182\n",
       " 2098.0    0.927273\n",
       " 2170.0    0.945455\n",
       " Name: sector_completely_matched, dtype: float64,\n",
       " project_id\n",
       " 2028.0    0.012727\n",
       " 2098.0    0.023636\n",
       " 2170.0    0.021818\n",
       " Name: sector_missing, dtype: float64,\n",
       " project_id\n",
       " 2028.0    0.029091\n",
       " 2098.0    0.049091\n",
       " 2170.0    0.032727\n",
       " Name: sector_wrong, dtype: float64)"
      ]
     },
     "execution_count": 35,
     "metadata": {},
     "output_type": "execute_result"
    }
   ],
   "source": [
    "# Per project mean values for sectors\n",
    "sectors_completely_matched = df_sample.groupby([\"project_id\"])[\"sector_completely_matched\"].mean()\n",
    "sectors_missing = df_sample.groupby([\"project_id\"])[\"sector_missing\"].mean()\n",
    "sectors_wrong = df_sample.groupby([\"project_id\"])[\"sector_wrong\"].mean()\n",
    "\n",
    "sectors_completely_matched, sectors_missing, sectors_wrong"
   ]
  },
  {
   "cell_type": "code",
   "execution_count": 36,
   "metadata": {},
   "outputs": [
    {
     "data": {
      "text/plain": [
       "(project_id\n",
       " 2028.0    0.992121\n",
       " 2098.0    0.990909\n",
       " 2170.0    0.989091\n",
       " Name: subpillars_1d_completely_matched, dtype: float64,\n",
       " project_id\n",
       " 2028.0    0.005455\n",
       " 2098.0    0.003636\n",
       " 2170.0    0.004242\n",
       " Name: subpillars_1d_missing, dtype: float64,\n",
       " project_id\n",
       " 2028.0    0.002424\n",
       " 2098.0    0.005455\n",
       " 2170.0    0.006667\n",
       " Name: subpillars_1d_wrong, dtype: float64)"
      ]
     },
     "execution_count": 36,
     "metadata": {},
     "output_type": "execute_result"
    }
   ],
   "source": [
    "# Per project mean values for subpillars 1d\n",
    "subpillars_1d_completely_matched = df_sample.groupby([\"project_id\"])[\"subpillars_1d_completely_matched\"].mean()\n",
    "subpillars_1d_missing = df_sample.groupby([\"project_id\"])[\"subpillars_1d_missing\"].mean()\n",
    "subpillars_1d_wrong = df_sample.groupby([\"project_id\"])[\"subpillars_1d_wrong\"].mean()\n",
    "\n",
    "subpillars_1d_completely_matched, subpillars_1d_missing, subpillars_1d_wrong"
   ]
  },
  {
   "cell_type": "code",
   "execution_count": 37,
   "metadata": {},
   "outputs": [
    {
     "data": {
      "text/plain": [
       "(project_id\n",
       " 2028.0    0.947778\n",
       " 2098.0    0.941111\n",
       " 2170.0    0.950000\n",
       " Name: subpillars_2d_completely_matched, dtype: float64,\n",
       " project_id\n",
       " 2028.0    0.011111\n",
       " 2098.0    0.017778\n",
       " 2170.0    0.025556\n",
       " Name: subpillars_2d_missing, dtype: float64,\n",
       " project_id\n",
       " 2028.0    0.041111\n",
       " 2098.0    0.041111\n",
       " 2170.0    0.024444\n",
       " Name: subpillars_2d_wrong, dtype: float64)"
      ]
     },
     "execution_count": 37,
     "metadata": {},
     "output_type": "execute_result"
    }
   ],
   "source": [
    "# Per project mean values for subpillars 2d\n",
    "subpillars_2d_completely_matched = df_sample.groupby([\"project_id\"])[\"subpillars_2d_completely_matched\"].mean()\n",
    "subpillars_2d_missing = df_sample.groupby([\"project_id\"])[\"subpillars_2d_missing\"].mean()\n",
    "subpillars_2d_wrong = df_sample.groupby([\"project_id\"])[\"subpillars_2d_wrong\"].mean()\n",
    "\n",
    "subpillars_2d_completely_matched, subpillars_2d_missing, subpillars_2d_wrong"
   ]
  },
  {
   "cell_type": "code",
   "execution_count": 38,
   "metadata": {},
   "outputs": [
    {
     "data": {
      "text/plain": [
       "array([[[146,   1],\n",
       "        [  2,   1]],\n",
       "\n",
       "       [[118,  13],\n",
       "        [  8,  11]],\n",
       "\n",
       "       [[130,   4],\n",
       "        [  1,  15]],\n",
       "\n",
       "       [[134,   3],\n",
       "        [  3,  10]],\n",
       "\n",
       "       [[ 90,  14],\n",
       "        [  8,  38]],\n",
       "\n",
       "       [[131,  10],\n",
       "        [  1,   8]],\n",
       "\n",
       "       [[142,   2],\n",
       "        [  0,   6]],\n",
       "\n",
       "       [[144,   4],\n",
       "        [  1,   1]],\n",
       "\n",
       "       [[130,   7],\n",
       "        [  4,   9]],\n",
       "\n",
       "       [[141,   1],\n",
       "        [  2,   6]],\n",
       "\n",
       "       [[132,   2],\n",
       "        [  2,  14]]])"
      ]
     },
     "execution_count": 38,
     "metadata": {},
     "output_type": "execute_result"
    }
   ],
   "source": [
    "# For Sectors\n",
    "confusion_matrix = multilabel_confusion_matrix(list(df_sample[\"sectors_transformed\"]), list(df_sample[\"sectors_pred_transformed\"]))\n",
    "confusion_matrix"
   ]
  },
  {
   "cell_type": "code",
   "execution_count": null,
   "metadata": {},
   "outputs": [],
   "source": []
  },
  {
   "cell_type": "code",
   "execution_count": null,
   "metadata": {},
   "outputs": [],
   "source": []
  }
 ],
 "metadata": {
  "kernelspec": {
   "display_name": "Python 3.8.10 ('venv': venv)",
   "language": "python",
   "name": "python3"
  },
  "language_info": {
   "codemirror_mode": {
    "name": "ipython",
    "version": 3
   },
   "file_extension": ".py",
   "mimetype": "text/x-python",
   "name": "python",
   "nbconvert_exporter": "python",
   "pygments_lexer": "ipython3",
   "version": "3.8.10"
  },
  "orig_nbformat": 4,
  "vscode": {
   "interpreter": {
    "hash": "e965ff10cc32ca13f875f8d219feb1f22ffcb84f466513427c412648a9e6ef17"
   }
  }
 },
 "nbformat": 4,
 "nbformat_minor": 2
}
