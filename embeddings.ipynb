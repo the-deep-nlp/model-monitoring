{
 "cells": [
  {
   "cell_type": "code",
   "execution_count": 3,
   "metadata": {},
   "outputs": [],
   "source": [
    "import pandas as pd\n",
    "import boto3\n",
    "import json\n",
    "\n",
    "\n",
    "from tqdm import tqdm\n",
    "tqdm.pandas()"
   ]
  },
  {
   "cell_type": "code",
   "execution_count": 4,
   "metadata": {},
   "outputs": [],
   "source": [
    "dataset_path = \"test_v0.7.1.csv\"\n",
    "df = pd.read_csv(dataset_path)"
   ]
  },
  {
   "cell_type": "code",
   "execution_count": 5,
   "metadata": {},
   "outputs": [],
   "source": [
    "class Embeddings:\n",
    "    def __init__(self):\n",
    "        self.endpoint_name = \"main-model-cpu\"\n",
    "        self.sg_client = boto3.session.Session().client(\n",
    "            \"sagemaker-runtime\", region_name='us-east-1'\n",
    "        )\n",
    "\n",
    "    def create_df(self, entry):\n",
    "        df = pd.DataFrame({\"excerpt\": entry, \"index\": [0]})\n",
    "        df[\"return_type\"] = \"default_analyis\"\n",
    "        df[\"analyis_framework_id\"] = \"all\"\n",
    "\n",
    "        df[\"interpretability\"] = False\n",
    "        df[\"ratio_interpreted_labels\"] = 0.5\n",
    "        df[\"return_prediction_labels\"] = False\n",
    "\n",
    "        df[\"output_backbone_embeddings\"] = True\n",
    "        df[\"pooling_type\"] = \"['mean_pooling']\"\n",
    "        df[\"finetuned_task\"] = \"['first_level_tags', 'subpillars']\"\n",
    "        df[\"embeddings_return_type\"] = \"list\"\n",
    "\n",
    "        return df.to_json(orient=\"split\")\n",
    "\n",
    "    def invoke_endpoint(self, backbone_inputs_json):\n",
    "        response = self.sg_client.invoke_endpoint(\n",
    "            EndpointName=self.endpoint_name,\n",
    "            Body=backbone_inputs_json,\n",
    "            ContentType=\"application/json; format=pandas-split\"\n",
    "        )\n",
    "        embeddings = json.loads(response[\"Body\"].read().decode(\"ascii\"))\n",
    "        return embeddings[\"output_backbone\"][0]\n",
    "\n",
    "    def get_embeddings(self, excerpt):\n",
    "        df_json = self.create_df(excerpt)\n",
    "        embeddings = self.invoke_endpoint(df_json)\n",
    "        return embeddings"
   ]
  },
  {
   "cell_type": "code",
   "execution_count": 6,
   "metadata": {},
   "outputs": [],
   "source": [
    "embeddings = Embeddings()"
   ]
  },
  {
   "cell_type": "code",
   "execution_count": 9,
   "metadata": {},
   "outputs": [],
   "source": [
    "#df[\"embeddings\"] = df.excerpt.apply(embeddings.get_embeddings)"
   ]
  },
  {
   "cell_type": "code",
   "execution_count": 11,
   "metadata": {},
   "outputs": [],
   "source": [
    "#print(df.embeddings)\n",
    "df.to_csv(\"data_with_embeddings.csv\")"
   ]
  },
  {
   "cell_type": "code",
   "execution_count": 15,
   "metadata": {},
   "outputs": [
    {
     "data": {
      "text/plain": [
       "768"
      ]
     },
     "execution_count": 15,
     "metadata": {},
     "output_type": "execute_result"
    }
   ],
   "source": [
    "len(df.embeddings[3614])"
   ]
  },
  {
   "cell_type": "code",
   "execution_count": 7,
   "metadata": {},
   "outputs": [],
   "source": [
    "counts = df[\"project_id\"].value_counts()"
   ]
  },
  {
   "cell_type": "code",
   "execution_count": 8,
   "metadata": {},
   "outputs": [],
   "source": [
    "valid_project_ids = counts[counts>1000].index"
   ]
  },
  {
   "cell_type": "code",
   "execution_count": 9,
   "metadata": {},
   "outputs": [
    {
     "data": {
      "text/plain": [
       "Float64Index([2028.0, 2170.0, 2098.0, 2099.0, 2225.0, 2311.0], dtype='float64')"
      ]
     },
     "execution_count": 9,
     "metadata": {},
     "output_type": "execute_result"
    }
   ],
   "source": [
    "valid_project_ids"
   ]
  },
  {
   "cell_type": "code",
   "execution_count": 10,
   "metadata": {},
   "outputs": [],
   "source": [
    "df_new = df[df[\"project_id\"].isin(valid_project_ids)]"
   ]
  },
  {
   "cell_type": "code",
   "execution_count": 11,
   "metadata": {},
   "outputs": [
    {
     "data": {
      "text/plain": [
       "10419"
      ]
     },
     "execution_count": 11,
     "metadata": {},
     "output_type": "execute_result"
    }
   ],
   "source": [
    "len(df_new)"
   ]
  },
  {
   "cell_type": "code",
   "execution_count": 12,
   "metadata": {},
   "outputs": [
    {
     "data": {
      "text/html": [
       "<div>\n",
       "<style scoped>\n",
       "    .dataframe tbody tr th:only-of-type {\n",
       "        vertical-align: middle;\n",
       "    }\n",
       "\n",
       "    .dataframe tbody tr th {\n",
       "        vertical-align: top;\n",
       "    }\n",
       "\n",
       "    .dataframe thead th {\n",
       "        text-align: right;\n",
       "    }\n",
       "</style>\n",
       "<table border=\"1\" class=\"dataframe\">\n",
       "  <thead>\n",
       "    <tr style=\"text-align: right;\">\n",
       "      <th></th>\n",
       "      <th>entry_id</th>\n",
       "      <th>excerpt</th>\n",
       "      <th>analysis_framework_id</th>\n",
       "      <th>lead_id</th>\n",
       "      <th>project_id</th>\n",
       "      <th>verified</th>\n",
       "      <th>sectors</th>\n",
       "      <th>subpillars_2d</th>\n",
       "      <th>subpillars_1d</th>\n",
       "      <th>geo_location</th>\n",
       "      <th>...</th>\n",
       "      <th>affected_groups_level_1</th>\n",
       "      <th>affected_groups_level_2</th>\n",
       "      <th>affected_groups_level_3</th>\n",
       "      <th>source_type</th>\n",
       "      <th>url</th>\n",
       "      <th>website</th>\n",
       "      <th>lang</th>\n",
       "      <th>translation_en</th>\n",
       "      <th>translation_fr</th>\n",
       "      <th>translation_es</th>\n",
       "    </tr>\n",
       "  </thead>\n",
       "  <tbody>\n",
       "    <tr>\n",
       "      <th>1</th>\n",
       "      <td>489433</td>\n",
       "      <td>Primary and secondary net enrollment rates are...</td>\n",
       "      <td>1306</td>\n",
       "      <td>67488.0</td>\n",
       "      <td>2225.0</td>\n",
       "      <td>False</td>\n",
       "      <td>['Education']</td>\n",
       "      <td>['Humanitarian Conditions-&gt;Living Standards']</td>\n",
       "      <td>['Context-&gt;Socio Cultural']</td>\n",
       "      <td>['République démocratique du Congo']</td>\n",
       "      <td>...</td>\n",
       "      <td>['Affected']</td>\n",
       "      <td>[]</td>\n",
       "      <td>[]</td>\n",
       "      <td>website</td>\n",
       "      <td>https://blogs.worldbank.org/education/free-pri...</td>\n",
       "      <td>blogs.worldbank.org</td>\n",
       "      <td>en</td>\n",
       "      <td>NaN</td>\n",
       "      <td>Les taux de scolarisation nets primaires et se...</td>\n",
       "      <td>Las tasas de inscripción netas primarias y sec...</td>\n",
       "    </tr>\n",
       "    <tr>\n",
       "      <th>4</th>\n",
       "      <td>489430</td>\n",
       "      <td>Like few other countries globally, the majorit...</td>\n",
       "      <td>1306</td>\n",
       "      <td>67488.0</td>\n",
       "      <td>2225.0</td>\n",
       "      <td>False</td>\n",
       "      <td>[]</td>\n",
       "      <td>[]</td>\n",
       "      <td>['Context-&gt;Socio Cultural']</td>\n",
       "      <td>['République démocratique du Congo']</td>\n",
       "      <td>...</td>\n",
       "      <td>['Affected']</td>\n",
       "      <td>[]</td>\n",
       "      <td>[]</td>\n",
       "      <td>website</td>\n",
       "      <td>https://blogs.worldbank.org/education/free-pri...</td>\n",
       "      <td>blogs.worldbank.org</td>\n",
       "      <td>en</td>\n",
       "      <td>NaN</td>\n",
       "      <td>Comme peu d'autres pays à l'échelle mondiale, ...</td>\n",
       "      <td>Al igual que algunos otros países a nivel mund...</td>\n",
       "    </tr>\n",
       "    <tr>\n",
       "      <th>5</th>\n",
       "      <td>489438</td>\n",
       "      <td>And the policy is already having significant i...</td>\n",
       "      <td>1306</td>\n",
       "      <td>67488.0</td>\n",
       "      <td>2225.0</td>\n",
       "      <td>False</td>\n",
       "      <td>['Education']</td>\n",
       "      <td>['Impact-&gt;Impact On Systems, Services And Netw...</td>\n",
       "      <td>['Context-&gt;Socio Cultural']</td>\n",
       "      <td>['République démocratique du Congo']</td>\n",
       "      <td>...</td>\n",
       "      <td>['Affected']</td>\n",
       "      <td>[]</td>\n",
       "      <td>[]</td>\n",
       "      <td>website</td>\n",
       "      <td>https://blogs.worldbank.org/education/free-pri...</td>\n",
       "      <td>blogs.worldbank.org</td>\n",
       "      <td>en</td>\n",
       "      <td>NaN</td>\n",
       "      <td>Et la politique a déjà des impacts significati...</td>\n",
       "      <td>Y la política ya está teniendo impactos signif...</td>\n",
       "    </tr>\n",
       "    <tr>\n",
       "      <th>6</th>\n",
       "      <td>187423</td>\n",
       "      <td>[9thNov 2020,Nigeria]With the latest update, N...</td>\n",
       "      <td>1306</td>\n",
       "      <td>43202.0</td>\n",
       "      <td>2170.0</td>\n",
       "      <td>False</td>\n",
       "      <td>[]</td>\n",
       "      <td>[]</td>\n",
       "      <td>['Covid-19-&gt;Cases']</td>\n",
       "      <td>['Nigeria']</td>\n",
       "      <td>...</td>\n",
       "      <td>[]</td>\n",
       "      <td>[]</td>\n",
       "      <td>[]</td>\n",
       "      <td>website</td>\n",
       "      <td>https://www.premiumtimesng.com/news/headlines/...</td>\n",
       "      <td>www.premiumtimesng.com</td>\n",
       "      <td>en</td>\n",
       "      <td>NaN</td>\n",
       "      <td>[9thnov 2020, Nigeria] Avec la dernière mise à...</td>\n",
       "      <td>[9thnov 2020, Nigeria] Con la última actualiza...</td>\n",
       "    </tr>\n",
       "    <tr>\n",
       "      <th>7</th>\n",
       "      <td>489437</td>\n",
       "      <td>But almost 2 years on, it is safe to say that ...</td>\n",
       "      <td>1306</td>\n",
       "      <td>67488.0</td>\n",
       "      <td>2225.0</td>\n",
       "      <td>False</td>\n",
       "      <td>['Education']</td>\n",
       "      <td>['Capacities &amp; Response-&gt;National Response', '...</td>\n",
       "      <td>['Context-&gt;Socio Cultural']</td>\n",
       "      <td>['République démocratique du Congo']</td>\n",
       "      <td>...</td>\n",
       "      <td>['Affected']</td>\n",
       "      <td>[]</td>\n",
       "      <td>[]</td>\n",
       "      <td>website</td>\n",
       "      <td>https://blogs.worldbank.org/education/free-pri...</td>\n",
       "      <td>blogs.worldbank.org</td>\n",
       "      <td>en</td>\n",
       "      <td>NaN</td>\n",
       "      <td>Mais près de 2 ans, il est prudent de dire que...</td>\n",
       "      <td>Pero casi 2 años, es seguro decir que la RDC p...</td>\n",
       "    </tr>\n",
       "  </tbody>\n",
       "</table>\n",
       "<p>5 rows × 27 columns</p>\n",
       "</div>"
      ],
      "text/plain": [
       "   entry_id                                            excerpt  \\\n",
       "1    489433  Primary and secondary net enrollment rates are...   \n",
       "4    489430  Like few other countries globally, the majorit...   \n",
       "5    489438  And the policy is already having significant i...   \n",
       "6    187423  [9thNov 2020,Nigeria]With the latest update, N...   \n",
       "7    489437  But almost 2 years on, it is safe to say that ...   \n",
       "\n",
       "   analysis_framework_id  lead_id  project_id verified        sectors  \\\n",
       "1                   1306  67488.0      2225.0    False  ['Education']   \n",
       "4                   1306  67488.0      2225.0    False             []   \n",
       "5                   1306  67488.0      2225.0    False  ['Education']   \n",
       "6                   1306  43202.0      2170.0    False             []   \n",
       "7                   1306  67488.0      2225.0    False  ['Education']   \n",
       "\n",
       "                                       subpillars_2d  \\\n",
       "1      ['Humanitarian Conditions->Living Standards']   \n",
       "4                                                 []   \n",
       "5  ['Impact->Impact On Systems, Services And Netw...   \n",
       "6                                                 []   \n",
       "7  ['Capacities & Response->National Response', '...   \n",
       "\n",
       "                 subpillars_1d                          geo_location  ...  \\\n",
       "1  ['Context->Socio Cultural']  ['République démocratique du Congo']  ...   \n",
       "4  ['Context->Socio Cultural']  ['République démocratique du Congo']  ...   \n",
       "5  ['Context->Socio Cultural']  ['République démocratique du Congo']  ...   \n",
       "6          ['Covid-19->Cases']                           ['Nigeria']  ...   \n",
       "7  ['Context->Socio Cultural']  ['République démocratique du Congo']  ...   \n",
       "\n",
       "  affected_groups_level_1 affected_groups_level_2 affected_groups_level_3  \\\n",
       "1            ['Affected']                      []                      []   \n",
       "4            ['Affected']                      []                      []   \n",
       "5            ['Affected']                      []                      []   \n",
       "6                      []                      []                      []   \n",
       "7            ['Affected']                      []                      []   \n",
       "\n",
       "  source_type                                                url  \\\n",
       "1     website  https://blogs.worldbank.org/education/free-pri...   \n",
       "4     website  https://blogs.worldbank.org/education/free-pri...   \n",
       "5     website  https://blogs.worldbank.org/education/free-pri...   \n",
       "6     website  https://www.premiumtimesng.com/news/headlines/...   \n",
       "7     website  https://blogs.worldbank.org/education/free-pri...   \n",
       "\n",
       "                  website lang translation_en  \\\n",
       "1     blogs.worldbank.org   en            NaN   \n",
       "4     blogs.worldbank.org   en            NaN   \n",
       "5     blogs.worldbank.org   en            NaN   \n",
       "6  www.premiumtimesng.com   en            NaN   \n",
       "7     blogs.worldbank.org   en            NaN   \n",
       "\n",
       "                                      translation_fr  \\\n",
       "1  Les taux de scolarisation nets primaires et se...   \n",
       "4  Comme peu d'autres pays à l'échelle mondiale, ...   \n",
       "5  Et la politique a déjà des impacts significati...   \n",
       "6  [9thnov 2020, Nigeria] Avec la dernière mise à...   \n",
       "7  Mais près de 2 ans, il est prudent de dire que...   \n",
       "\n",
       "                                      translation_es  \n",
       "1  Las tasas de inscripción netas primarias y sec...  \n",
       "4  Al igual que algunos otros países a nivel mund...  \n",
       "5  Y la política ya está teniendo impactos signif...  \n",
       "6  [9thnov 2020, Nigeria] Con la última actualiza...  \n",
       "7  Pero casi 2 años, es seguro decir que la RDC p...  \n",
       "\n",
       "[5 rows x 27 columns]"
      ]
     },
     "execution_count": 12,
     "metadata": {},
     "output_type": "execute_result"
    }
   ],
   "source": [
    "df_new.head()"
   ]
  },
  {
   "cell_type": "code",
   "execution_count": 13,
   "metadata": {},
   "outputs": [],
   "source": [
    "sampled_df_per_project = df_new.groupby(\"project_id\").sample(n=1000)"
   ]
  },
  {
   "cell_type": "code",
   "execution_count": 14,
   "metadata": {},
   "outputs": [
    {
     "data": {
      "text/plain": [
       "6000"
      ]
     },
     "execution_count": 14,
     "metadata": {},
     "output_type": "execute_result"
    }
   ],
   "source": [
    "len(sampled_df_per_project)"
   ]
  },
  {
   "cell_type": "code",
   "execution_count": 15,
   "metadata": {},
   "outputs": [
    {
     "data": {
      "text/html": [
       "<div>\n",
       "<style scoped>\n",
       "    .dataframe tbody tr th:only-of-type {\n",
       "        vertical-align: middle;\n",
       "    }\n",
       "\n",
       "    .dataframe tbody tr th {\n",
       "        vertical-align: top;\n",
       "    }\n",
       "\n",
       "    .dataframe thead th {\n",
       "        text-align: right;\n",
       "    }\n",
       "</style>\n",
       "<table border=\"1\" class=\"dataframe\">\n",
       "  <thead>\n",
       "    <tr style=\"text-align: right;\">\n",
       "      <th></th>\n",
       "      <th>entry_id</th>\n",
       "      <th>excerpt</th>\n",
       "      <th>analysis_framework_id</th>\n",
       "      <th>lead_id</th>\n",
       "      <th>project_id</th>\n",
       "      <th>verified</th>\n",
       "      <th>sectors</th>\n",
       "      <th>subpillars_2d</th>\n",
       "      <th>subpillars_1d</th>\n",
       "      <th>geo_location</th>\n",
       "      <th>...</th>\n",
       "      <th>affected_groups_level_1</th>\n",
       "      <th>affected_groups_level_2</th>\n",
       "      <th>affected_groups_level_3</th>\n",
       "      <th>source_type</th>\n",
       "      <th>url</th>\n",
       "      <th>website</th>\n",
       "      <th>lang</th>\n",
       "      <th>translation_en</th>\n",
       "      <th>translation_fr</th>\n",
       "      <th>translation_es</th>\n",
       "    </tr>\n",
       "  </thead>\n",
       "  <tbody>\n",
       "    <tr>\n",
       "      <th>2559</th>\n",
       "      <td>220648</td>\n",
       "      <td>[9th Dec, Overall Syria] It is understood that...</td>\n",
       "      <td>1306</td>\n",
       "      <td>45655.0</td>\n",
       "      <td>2028.0</td>\n",
       "      <td>False</td>\n",
       "      <td>[]</td>\n",
       "      <td>[]</td>\n",
       "      <td>['Covid-19-&gt;Deaths', 'Covid-19-&gt;Cases']</td>\n",
       "      <td>[]</td>\n",
       "      <td>...</td>\n",
       "      <td>[]</td>\n",
       "      <td>[]</td>\n",
       "      <td>[]</td>\n",
       "      <td>website</td>\n",
       "      <td>https://reliefweb.int/sites/reliefweb.int/file...</td>\n",
       "      <td>reliefweb.int</td>\n",
       "      <td>en</td>\n",
       "      <td>NaN</td>\n",
       "      <td>[9ème décembre, la Syrie globale] Il est enten...</td>\n",
       "      <td>[9 de diciembre, Siria general] Se entiende qu...</td>\n",
       "    </tr>\n",
       "    <tr>\n",
       "      <th>5542</th>\n",
       "      <td>492314</td>\n",
       "      <td>[August 2021, Overall Syria] In light of the d...</td>\n",
       "      <td>1306</td>\n",
       "      <td>67914.0</td>\n",
       "      <td>2028.0</td>\n",
       "      <td>False</td>\n",
       "      <td>['Cross', 'Livelihoods']</td>\n",
       "      <td>['Impact-&gt;Impact On Systems, Services And Netw...</td>\n",
       "      <td>[]</td>\n",
       "      <td>['Hama', 'Syrian Arab Republic', 'Damascus', '...</td>\n",
       "      <td>...</td>\n",
       "      <td>['Affected', 'Affected', 'Affected', 'Affected...</td>\n",
       "      <td>['Displaced', 'Non Displaced', 'Non Displaced'...</td>\n",
       "      <td>['None', 'Host', 'IDP']</td>\n",
       "      <td>website</td>\n",
       "      <td>https://fscluster.org/sites/default/files/docu...</td>\n",
       "      <td>fscluster.org</td>\n",
       "      <td>en</td>\n",
       "      <td>NaN</td>\n",
       "      <td>[Août 2021, Syrie globale] À la lumière de la ...</td>\n",
       "      <td>[De agosto de 2021, Siria general] A la luz de...</td>\n",
       "    </tr>\n",
       "  </tbody>\n",
       "</table>\n",
       "<p>2 rows × 27 columns</p>\n",
       "</div>"
      ],
      "text/plain": [
       "      entry_id                                            excerpt  \\\n",
       "2559    220648  [9th Dec, Overall Syria] It is understood that...   \n",
       "5542    492314  [August 2021, Overall Syria] In light of the d...   \n",
       "\n",
       "      analysis_framework_id  lead_id  project_id verified  \\\n",
       "2559                   1306  45655.0      2028.0    False   \n",
       "5542                   1306  67914.0      2028.0    False   \n",
       "\n",
       "                       sectors  \\\n",
       "2559                        []   \n",
       "5542  ['Cross', 'Livelihoods']   \n",
       "\n",
       "                                          subpillars_2d  \\\n",
       "2559                                                 []   \n",
       "5542  ['Impact->Impact On Systems, Services And Netw...   \n",
       "\n",
       "                                subpillars_1d  \\\n",
       "2559  ['Covid-19->Deaths', 'Covid-19->Cases']   \n",
       "5542                                       []   \n",
       "\n",
       "                                           geo_location  ...  \\\n",
       "2559                                                 []  ...   \n",
       "5542  ['Hama', 'Syrian Arab Republic', 'Damascus', '...  ...   \n",
       "\n",
       "                                affected_groups_level_1  \\\n",
       "2559                                                 []   \n",
       "5542  ['Affected', 'Affected', 'Affected', 'Affected...   \n",
       "\n",
       "                                affected_groups_level_2  \\\n",
       "2559                                                 []   \n",
       "5542  ['Displaced', 'Non Displaced', 'Non Displaced'...   \n",
       "\n",
       "      affected_groups_level_3 source_type  \\\n",
       "2559                       []     website   \n",
       "5542  ['None', 'Host', 'IDP']     website   \n",
       "\n",
       "                                                    url        website lang  \\\n",
       "2559  https://reliefweb.int/sites/reliefweb.int/file...  reliefweb.int   en   \n",
       "5542  https://fscluster.org/sites/default/files/docu...  fscluster.org   en   \n",
       "\n",
       "     translation_en                                     translation_fr  \\\n",
       "2559            NaN  [9ème décembre, la Syrie globale] Il est enten...   \n",
       "5542            NaN  [Août 2021, Syrie globale] À la lumière de la ...   \n",
       "\n",
       "                                         translation_es  \n",
       "2559  [9 de diciembre, Siria general] Se entiende qu...  \n",
       "5542  [De agosto de 2021, Siria general] A la luz de...  \n",
       "\n",
       "[2 rows x 27 columns]"
      ]
     },
     "execution_count": 15,
     "metadata": {},
     "output_type": "execute_result"
    }
   ],
   "source": [
    "sampled_df_per_project.head(2)"
   ]
  },
  {
   "cell_type": "code",
   "execution_count": 16,
   "metadata": {},
   "outputs": [
    {
     "name": "stderr",
     "output_type": "stream",
     "text": [
      "100%|██████████| 6000/6000 [48:13<00:00,  2.07it/s]    \n"
     ]
    }
   ],
   "source": [
    "sampled_df_per_project[\"embeddings\"] = sampled_df_per_project.excerpt.progress_apply(embeddings.get_embeddings)"
   ]
  },
  {
   "cell_type": "code",
   "execution_count": 17,
   "metadata": {},
   "outputs": [],
   "source": [
    "sampled_df_per_project.to_csv(\"sampled_data_with_embeddings_testset.csv\")\n"
   ]
  },
  {
   "cell_type": "code",
   "execution_count": null,
   "metadata": {},
   "outputs": [],
   "source": []
  }
 ],
 "metadata": {
  "kernelspec": {
   "display_name": "Python 3.8.10 ('venv': venv)",
   "language": "python",
   "name": "python3"
  },
  "language_info": {
   "codemirror_mode": {
    "name": "ipython",
    "version": 3
   },
   "file_extension": ".py",
   "mimetype": "text/x-python",
   "name": "python",
   "nbconvert_exporter": "python",
   "pygments_lexer": "ipython3",
   "version": "3.8.10"
  },
  "orig_nbformat": 4,
  "vscode": {
   "interpreter": {
    "hash": "f5c2c1e2032c3ddf01c0ca102d2d87a2fc01bcbae18ad401c82ef32229c6dcfd"
   }
  }
 },
 "nbformat": 4,
 "nbformat_minor": 2
}
